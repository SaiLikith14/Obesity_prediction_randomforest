{
 "cells": [
  {
   "cell_type": "code",
   "execution_count": 1,
   "id": "62e0ca47",
   "metadata": {
    "_cell_guid": "b1076dfc-b9ad-4769-8c92-a6c4dae69d19",
    "_uuid": "8f2839f25d086af736a60e9eeb907d3b93b6e0e5",
    "execution": {
     "iopub.execute_input": "2024-02-13T12:32:08.645156Z",
     "iopub.status.busy": "2024-02-13T12:32:08.644771Z",
     "iopub.status.idle": "2024-02-13T12:32:09.880231Z",
     "shell.execute_reply": "2024-02-13T12:32:09.879320Z"
    },
    "papermill": {
     "duration": 1.252443,
     "end_time": "2024-02-13T12:32:09.882538",
     "exception": false,
     "start_time": "2024-02-13T12:32:08.630095",
     "status": "completed"
    },
    "tags": []
   },
   "outputs": [
    {
     "name": "stdout",
     "output_type": "stream",
     "text": [
      "/kaggle/input/playground-series-s4e2/sample_submission.csv\n",
      "/kaggle/input/playground-series-s4e2/train.csv\n",
      "/kaggle/input/playground-series-s4e2/test.csv\n"
     ]
    }
   ],
   "source": [
    "# This Python 3 environment comes with many helpful analytics libraries installed\n",
    "# It is defined by the kaggle/python Docker image: https://github.com/kaggle/docker-python\n",
    "# For example, here's several helpful packages to load\n",
    "\n",
    "import numpy as np # linear algebra\n",
    "import pandas as pd # data processing, CSV file I/O (e.g. pd.read_csv)\n",
    "\n",
    "# Input data files are available in the read-only \"../input/\" directory\n",
    "# For example, running this (by clicking run or pressing Shift+Enter) will list all files under the input directory\n",
    "\n",
    "import os\n",
    "for dirname, _, filenames in os.walk('/kaggle/input'):\n",
    "    for filename in filenames:\n",
    "        print(os.path.join(dirname, filename))\n",
    "\n",
    "# You can write up to 20GB to the current directory (/kaggle/working/) that gets preserved as output when you create a version using \"Save & Run All\" \n",
    "# You can also write temporary files to /kaggle/temp/, but they won't be saved outside of the current session"
   ]
  },
  {
   "cell_type": "code",
   "execution_count": 2,
   "id": "ea1dcecf",
   "metadata": {
    "execution": {
     "iopub.execute_input": "2024-02-13T12:32:09.908679Z",
     "iopub.status.busy": "2024-02-13T12:32:09.908306Z",
     "iopub.status.idle": "2024-02-13T12:32:11.758457Z",
     "shell.execute_reply": "2024-02-13T12:32:11.757481Z"
    },
    "papermill": {
     "duration": 1.865857,
     "end_time": "2024-02-13T12:32:11.760862",
     "exception": false,
     "start_time": "2024-02-13T12:32:09.895005",
     "status": "completed"
    },
    "tags": []
   },
   "outputs": [],
   "source": [
    "import pandas as pd\n",
    "from sklearn.preprocessing import LabelEncoder, MinMaxScaler, StandardScaler\n",
    "from sklearn.metrics import accuracy_score\n",
    "from sklearn.preprocessing import LabelEncoder , StandardScaler\n",
    "from sklearn.model_selection import train_test_split"
   ]
  },
  {
   "cell_type": "markdown",
   "id": "27d4e27d",
   "metadata": {
    "papermill": {
     "duration": 0.011012,
     "end_time": "2024-02-13T12:32:11.783626",
     "exception": false,
     "start_time": "2024-02-13T12:32:11.772614",
     "status": "completed"
    },
    "tags": []
   },
   "source": [
    "# load the data"
   ]
  },
  {
   "cell_type": "code",
   "execution_count": 3,
   "id": "086a127d",
   "metadata": {
    "execution": {
     "iopub.execute_input": "2024-02-13T12:32:11.808555Z",
     "iopub.status.busy": "2024-02-13T12:32:11.808120Z",
     "iopub.status.idle": "2024-02-13T12:32:12.011793Z",
     "shell.execute_reply": "2024-02-13T12:32:12.010851Z"
    },
    "papermill": {
     "duration": 0.219189,
     "end_time": "2024-02-13T12:32:12.014115",
     "exception": false,
     "start_time": "2024-02-13T12:32:11.794926",
     "status": "completed"
    },
    "tags": []
   },
   "outputs": [],
   "source": [
    "df_train = pd.read_csv('/kaggle/input/playground-series-s4e2/train.csv')\n",
    "df_test = pd.read_csv('/kaggle/input/playground-series-s4e2/test.csv')\n",
    "df_sub  = pd.read_csv('/kaggle/input/playground-series-s4e2/sample_submission.csv')"
   ]
  },
  {
   "cell_type": "markdown",
   "id": "a7f49b64",
   "metadata": {
    "papermill": {
     "duration": 0.010973,
     "end_time": "2024-02-13T12:32:12.036551",
     "exception": false,
     "start_time": "2024-02-13T12:32:12.025578",
     "status": "completed"
    },
    "tags": []
   },
   "source": [
    "# Preprocessing"
   ]
  },
  {
   "cell_type": "code",
   "execution_count": 4,
   "id": "0a04d77e",
   "metadata": {
    "execution": {
     "iopub.execute_input": "2024-02-13T12:32:12.059791Z",
     "iopub.status.busy": "2024-02-13T12:32:12.059491Z",
     "iopub.status.idle": "2024-02-13T12:32:12.085456Z",
     "shell.execute_reply": "2024-02-13T12:32:12.084632Z"
    },
    "papermill": {
     "duration": 0.04042,
     "end_time": "2024-02-13T12:32:12.087945",
     "exception": false,
     "start_time": "2024-02-13T12:32:12.047525",
     "status": "completed"
    },
    "tags": []
   },
   "outputs": [
    {
     "data": {
      "text/html": [
       "<div>\n",
       "<style scoped>\n",
       "    .dataframe tbody tr th:only-of-type {\n",
       "        vertical-align: middle;\n",
       "    }\n",
       "\n",
       "    .dataframe tbody tr th {\n",
       "        vertical-align: top;\n",
       "    }\n",
       "\n",
       "    .dataframe thead th {\n",
       "        text-align: right;\n",
       "    }\n",
       "</style>\n",
       "<table border=\"1\" class=\"dataframe\">\n",
       "  <thead>\n",
       "    <tr style=\"text-align: right;\">\n",
       "      <th></th>\n",
       "      <th>id</th>\n",
       "      <th>Gender</th>\n",
       "      <th>Age</th>\n",
       "      <th>Height</th>\n",
       "      <th>Weight</th>\n",
       "      <th>family_history_with_overweight</th>\n",
       "      <th>FAVC</th>\n",
       "      <th>FCVC</th>\n",
       "      <th>NCP</th>\n",
       "      <th>CAEC</th>\n",
       "      <th>SMOKE</th>\n",
       "      <th>CH2O</th>\n",
       "      <th>SCC</th>\n",
       "      <th>FAF</th>\n",
       "      <th>TUE</th>\n",
       "      <th>CALC</th>\n",
       "      <th>MTRANS</th>\n",
       "      <th>NObeyesdad</th>\n",
       "    </tr>\n",
       "  </thead>\n",
       "  <tbody>\n",
       "    <tr>\n",
       "      <th>0</th>\n",
       "      <td>0</td>\n",
       "      <td>Male</td>\n",
       "      <td>24.443011</td>\n",
       "      <td>1.699998</td>\n",
       "      <td>81.669950</td>\n",
       "      <td>yes</td>\n",
       "      <td>yes</td>\n",
       "      <td>2.000000</td>\n",
       "      <td>2.983297</td>\n",
       "      <td>Sometimes</td>\n",
       "      <td>no</td>\n",
       "      <td>2.763573</td>\n",
       "      <td>no</td>\n",
       "      <td>0.000000</td>\n",
       "      <td>0.976473</td>\n",
       "      <td>Sometimes</td>\n",
       "      <td>Public_Transportation</td>\n",
       "      <td>Overweight_Level_II</td>\n",
       "    </tr>\n",
       "    <tr>\n",
       "      <th>1</th>\n",
       "      <td>1</td>\n",
       "      <td>Female</td>\n",
       "      <td>18.000000</td>\n",
       "      <td>1.560000</td>\n",
       "      <td>57.000000</td>\n",
       "      <td>yes</td>\n",
       "      <td>yes</td>\n",
       "      <td>2.000000</td>\n",
       "      <td>3.000000</td>\n",
       "      <td>Frequently</td>\n",
       "      <td>no</td>\n",
       "      <td>2.000000</td>\n",
       "      <td>no</td>\n",
       "      <td>1.000000</td>\n",
       "      <td>1.000000</td>\n",
       "      <td>no</td>\n",
       "      <td>Automobile</td>\n",
       "      <td>Normal_Weight</td>\n",
       "    </tr>\n",
       "    <tr>\n",
       "      <th>2</th>\n",
       "      <td>2</td>\n",
       "      <td>Female</td>\n",
       "      <td>18.000000</td>\n",
       "      <td>1.711460</td>\n",
       "      <td>50.165754</td>\n",
       "      <td>yes</td>\n",
       "      <td>yes</td>\n",
       "      <td>1.880534</td>\n",
       "      <td>1.411685</td>\n",
       "      <td>Sometimes</td>\n",
       "      <td>no</td>\n",
       "      <td>1.910378</td>\n",
       "      <td>no</td>\n",
       "      <td>0.866045</td>\n",
       "      <td>1.673584</td>\n",
       "      <td>no</td>\n",
       "      <td>Public_Transportation</td>\n",
       "      <td>Insufficient_Weight</td>\n",
       "    </tr>\n",
       "    <tr>\n",
       "      <th>3</th>\n",
       "      <td>3</td>\n",
       "      <td>Female</td>\n",
       "      <td>20.952737</td>\n",
       "      <td>1.710730</td>\n",
       "      <td>131.274851</td>\n",
       "      <td>yes</td>\n",
       "      <td>yes</td>\n",
       "      <td>3.000000</td>\n",
       "      <td>3.000000</td>\n",
       "      <td>Sometimes</td>\n",
       "      <td>no</td>\n",
       "      <td>1.674061</td>\n",
       "      <td>no</td>\n",
       "      <td>1.467863</td>\n",
       "      <td>0.780199</td>\n",
       "      <td>Sometimes</td>\n",
       "      <td>Public_Transportation</td>\n",
       "      <td>Obesity_Type_III</td>\n",
       "    </tr>\n",
       "    <tr>\n",
       "      <th>4</th>\n",
       "      <td>4</td>\n",
       "      <td>Male</td>\n",
       "      <td>31.641081</td>\n",
       "      <td>1.914186</td>\n",
       "      <td>93.798055</td>\n",
       "      <td>yes</td>\n",
       "      <td>yes</td>\n",
       "      <td>2.679664</td>\n",
       "      <td>1.971472</td>\n",
       "      <td>Sometimes</td>\n",
       "      <td>no</td>\n",
       "      <td>1.979848</td>\n",
       "      <td>no</td>\n",
       "      <td>1.967973</td>\n",
       "      <td>0.931721</td>\n",
       "      <td>Sometimes</td>\n",
       "      <td>Public_Transportation</td>\n",
       "      <td>Overweight_Level_II</td>\n",
       "    </tr>\n",
       "  </tbody>\n",
       "</table>\n",
       "</div>"
      ],
      "text/plain": [
       "   id  Gender        Age    Height      Weight family_history_with_overweight  \\\n",
       "0   0    Male  24.443011  1.699998   81.669950                            yes   \n",
       "1   1  Female  18.000000  1.560000   57.000000                            yes   \n",
       "2   2  Female  18.000000  1.711460   50.165754                            yes   \n",
       "3   3  Female  20.952737  1.710730  131.274851                            yes   \n",
       "4   4    Male  31.641081  1.914186   93.798055                            yes   \n",
       "\n",
       "  FAVC      FCVC       NCP        CAEC SMOKE      CH2O SCC       FAF  \\\n",
       "0  yes  2.000000  2.983297   Sometimes    no  2.763573  no  0.000000   \n",
       "1  yes  2.000000  3.000000  Frequently    no  2.000000  no  1.000000   \n",
       "2  yes  1.880534  1.411685   Sometimes    no  1.910378  no  0.866045   \n",
       "3  yes  3.000000  3.000000   Sometimes    no  1.674061  no  1.467863   \n",
       "4  yes  2.679664  1.971472   Sometimes    no  1.979848  no  1.967973   \n",
       "\n",
       "        TUE       CALC                 MTRANS           NObeyesdad  \n",
       "0  0.976473  Sometimes  Public_Transportation  Overweight_Level_II  \n",
       "1  1.000000         no             Automobile        Normal_Weight  \n",
       "2  1.673584         no  Public_Transportation  Insufficient_Weight  \n",
       "3  0.780199  Sometimes  Public_Transportation     Obesity_Type_III  \n",
       "4  0.931721  Sometimes  Public_Transportation  Overweight_Level_II  "
      ]
     },
     "execution_count": 4,
     "metadata": {},
     "output_type": "execute_result"
    }
   ],
   "source": [
    "df_train.head()"
   ]
  },
  {
   "cell_type": "code",
   "execution_count": 5,
   "id": "7ab35f74",
   "metadata": {
    "execution": {
     "iopub.execute_input": "2024-02-13T12:32:12.114722Z",
     "iopub.status.busy": "2024-02-13T12:32:12.114427Z",
     "iopub.status.idle": "2024-02-13T12:32:12.121072Z",
     "shell.execute_reply": "2024-02-13T12:32:12.120010Z"
    },
    "papermill": {
     "duration": 0.022167,
     "end_time": "2024-02-13T12:32:12.122943",
     "exception": false,
     "start_time": "2024-02-13T12:32:12.100776",
     "status": "completed"
    },
    "tags": []
   },
   "outputs": [
    {
     "data": {
      "text/plain": [
       "Index(['id', 'Gender', 'Age', 'Height', 'Weight',\n",
       "       'family_history_with_overweight', 'FAVC', 'FCVC', 'NCP', 'CAEC',\n",
       "       'SMOKE', 'CH2O', 'SCC', 'FAF', 'TUE', 'CALC', 'MTRANS', 'NObeyesdad'],\n",
       "      dtype='object')"
      ]
     },
     "execution_count": 5,
     "metadata": {},
     "output_type": "execute_result"
    }
   ],
   "source": [
    "df_train.columns"
   ]
  },
  {
   "cell_type": "code",
   "execution_count": 6,
   "id": "48afeb65",
   "metadata": {
    "execution": {
     "iopub.execute_input": "2024-02-13T12:32:12.147823Z",
     "iopub.status.busy": "2024-02-13T12:32:12.147534Z",
     "iopub.status.idle": "2024-02-13T12:32:12.175508Z",
     "shell.execute_reply": "2024-02-13T12:32:12.174631Z"
    },
    "papermill": {
     "duration": 0.042711,
     "end_time": "2024-02-13T12:32:12.177607",
     "exception": false,
     "start_time": "2024-02-13T12:32:12.134896",
     "status": "completed"
    },
    "tags": []
   },
   "outputs": [
    {
     "data": {
      "text/plain": [
       "id                                0\n",
       "Gender                            0\n",
       "Age                               0\n",
       "Height                            0\n",
       "Weight                            0\n",
       "family_history_with_overweight    0\n",
       "FAVC                              0\n",
       "FCVC                              0\n",
       "NCP                               0\n",
       "CAEC                              0\n",
       "SMOKE                             0\n",
       "CH2O                              0\n",
       "SCC                               0\n",
       "FAF                               0\n",
       "TUE                               0\n",
       "CALC                              0\n",
       "MTRANS                            0\n",
       "NObeyesdad                        0\n",
       "dtype: int64"
      ]
     },
     "execution_count": 6,
     "metadata": {},
     "output_type": "execute_result"
    }
   ],
   "source": [
    "df_train.isnull().sum()"
   ]
  },
  {
   "cell_type": "code",
   "execution_count": 7,
   "id": "f60993a8",
   "metadata": {
    "execution": {
     "iopub.execute_input": "2024-02-13T12:32:12.203240Z",
     "iopub.status.busy": "2024-02-13T12:32:12.202703Z",
     "iopub.status.idle": "2024-02-13T12:32:12.218132Z",
     "shell.execute_reply": "2024-02-13T12:32:12.217286Z"
    },
    "papermill": {
     "duration": 0.029944,
     "end_time": "2024-02-13T12:32:12.220004",
     "exception": false,
     "start_time": "2024-02-13T12:32:12.190060",
     "status": "completed"
    },
    "tags": []
   },
   "outputs": [
    {
     "data": {
      "text/plain": [
       "array(['Overweight_Level_II', 'Normal_Weight', 'Insufficient_Weight',\n",
       "       'Obesity_Type_III', 'Obesity_Type_II', 'Overweight_Level_I',\n",
       "       'Obesity_Type_I'], dtype=object)"
      ]
     },
     "execution_count": 7,
     "metadata": {},
     "output_type": "execute_result"
    }
   ],
   "source": [
    "df_train['NObeyesdad'].unique()"
   ]
  },
  {
   "cell_type": "code",
   "execution_count": 8,
   "id": "f5790091",
   "metadata": {
    "execution": {
     "iopub.execute_input": "2024-02-13T12:32:12.245016Z",
     "iopub.status.busy": "2024-02-13T12:32:12.244742Z",
     "iopub.status.idle": "2024-02-13T12:32:12.262814Z",
     "shell.execute_reply": "2024-02-13T12:32:12.262161Z"
    },
    "papermill": {
     "duration": 0.032706,
     "end_time": "2024-02-13T12:32:12.264730",
     "exception": false,
     "start_time": "2024-02-13T12:32:12.232024",
     "status": "completed"
    },
    "tags": []
   },
   "outputs": [],
   "source": [
    "dft = df_train.drop('id',axis = 1)"
   ]
  },
  {
   "cell_type": "code",
   "execution_count": 9,
   "id": "fddc391e",
   "metadata": {
    "execution": {
     "iopub.execute_input": "2024-02-13T12:32:12.289561Z",
     "iopub.status.busy": "2024-02-13T12:32:12.289314Z",
     "iopub.status.idle": "2024-02-13T12:32:12.307617Z",
     "shell.execute_reply": "2024-02-13T12:32:12.306836Z"
    },
    "papermill": {
     "duration": 0.032982,
     "end_time": "2024-02-13T12:32:12.309617",
     "exception": false,
     "start_time": "2024-02-13T12:32:12.276635",
     "status": "completed"
    },
    "tags": []
   },
   "outputs": [
    {
     "data": {
      "text/html": [
       "<div>\n",
       "<style scoped>\n",
       "    .dataframe tbody tr th:only-of-type {\n",
       "        vertical-align: middle;\n",
       "    }\n",
       "\n",
       "    .dataframe tbody tr th {\n",
       "        vertical-align: top;\n",
       "    }\n",
       "\n",
       "    .dataframe thead th {\n",
       "        text-align: right;\n",
       "    }\n",
       "</style>\n",
       "<table border=\"1\" class=\"dataframe\">\n",
       "  <thead>\n",
       "    <tr style=\"text-align: right;\">\n",
       "      <th></th>\n",
       "      <th>Gender</th>\n",
       "      <th>Age</th>\n",
       "      <th>Height</th>\n",
       "      <th>Weight</th>\n",
       "      <th>family_history_with_overweight</th>\n",
       "      <th>FAVC</th>\n",
       "      <th>FCVC</th>\n",
       "      <th>NCP</th>\n",
       "      <th>CAEC</th>\n",
       "      <th>SMOKE</th>\n",
       "      <th>CH2O</th>\n",
       "      <th>SCC</th>\n",
       "      <th>FAF</th>\n",
       "      <th>TUE</th>\n",
       "      <th>CALC</th>\n",
       "      <th>MTRANS</th>\n",
       "      <th>NObeyesdad</th>\n",
       "    </tr>\n",
       "  </thead>\n",
       "  <tbody>\n",
       "    <tr>\n",
       "      <th>0</th>\n",
       "      <td>Male</td>\n",
       "      <td>24.443011</td>\n",
       "      <td>1.699998</td>\n",
       "      <td>81.669950</td>\n",
       "      <td>yes</td>\n",
       "      <td>yes</td>\n",
       "      <td>2.000000</td>\n",
       "      <td>2.983297</td>\n",
       "      <td>Sometimes</td>\n",
       "      <td>no</td>\n",
       "      <td>2.763573</td>\n",
       "      <td>no</td>\n",
       "      <td>0.000000</td>\n",
       "      <td>0.976473</td>\n",
       "      <td>Sometimes</td>\n",
       "      <td>Public_Transportation</td>\n",
       "      <td>Overweight_Level_II</td>\n",
       "    </tr>\n",
       "    <tr>\n",
       "      <th>1</th>\n",
       "      <td>Female</td>\n",
       "      <td>18.000000</td>\n",
       "      <td>1.560000</td>\n",
       "      <td>57.000000</td>\n",
       "      <td>yes</td>\n",
       "      <td>yes</td>\n",
       "      <td>2.000000</td>\n",
       "      <td>3.000000</td>\n",
       "      <td>Frequently</td>\n",
       "      <td>no</td>\n",
       "      <td>2.000000</td>\n",
       "      <td>no</td>\n",
       "      <td>1.000000</td>\n",
       "      <td>1.000000</td>\n",
       "      <td>no</td>\n",
       "      <td>Automobile</td>\n",
       "      <td>Normal_Weight</td>\n",
       "    </tr>\n",
       "    <tr>\n",
       "      <th>2</th>\n",
       "      <td>Female</td>\n",
       "      <td>18.000000</td>\n",
       "      <td>1.711460</td>\n",
       "      <td>50.165754</td>\n",
       "      <td>yes</td>\n",
       "      <td>yes</td>\n",
       "      <td>1.880534</td>\n",
       "      <td>1.411685</td>\n",
       "      <td>Sometimes</td>\n",
       "      <td>no</td>\n",
       "      <td>1.910378</td>\n",
       "      <td>no</td>\n",
       "      <td>0.866045</td>\n",
       "      <td>1.673584</td>\n",
       "      <td>no</td>\n",
       "      <td>Public_Transportation</td>\n",
       "      <td>Insufficient_Weight</td>\n",
       "    </tr>\n",
       "    <tr>\n",
       "      <th>3</th>\n",
       "      <td>Female</td>\n",
       "      <td>20.952737</td>\n",
       "      <td>1.710730</td>\n",
       "      <td>131.274851</td>\n",
       "      <td>yes</td>\n",
       "      <td>yes</td>\n",
       "      <td>3.000000</td>\n",
       "      <td>3.000000</td>\n",
       "      <td>Sometimes</td>\n",
       "      <td>no</td>\n",
       "      <td>1.674061</td>\n",
       "      <td>no</td>\n",
       "      <td>1.467863</td>\n",
       "      <td>0.780199</td>\n",
       "      <td>Sometimes</td>\n",
       "      <td>Public_Transportation</td>\n",
       "      <td>Obesity_Type_III</td>\n",
       "    </tr>\n",
       "    <tr>\n",
       "      <th>4</th>\n",
       "      <td>Male</td>\n",
       "      <td>31.641081</td>\n",
       "      <td>1.914186</td>\n",
       "      <td>93.798055</td>\n",
       "      <td>yes</td>\n",
       "      <td>yes</td>\n",
       "      <td>2.679664</td>\n",
       "      <td>1.971472</td>\n",
       "      <td>Sometimes</td>\n",
       "      <td>no</td>\n",
       "      <td>1.979848</td>\n",
       "      <td>no</td>\n",
       "      <td>1.967973</td>\n",
       "      <td>0.931721</td>\n",
       "      <td>Sometimes</td>\n",
       "      <td>Public_Transportation</td>\n",
       "      <td>Overweight_Level_II</td>\n",
       "    </tr>\n",
       "  </tbody>\n",
       "</table>\n",
       "</div>"
      ],
      "text/plain": [
       "   Gender        Age    Height      Weight family_history_with_overweight  \\\n",
       "0    Male  24.443011  1.699998   81.669950                            yes   \n",
       "1  Female  18.000000  1.560000   57.000000                            yes   \n",
       "2  Female  18.000000  1.711460   50.165754                            yes   \n",
       "3  Female  20.952737  1.710730  131.274851                            yes   \n",
       "4    Male  31.641081  1.914186   93.798055                            yes   \n",
       "\n",
       "  FAVC      FCVC       NCP        CAEC SMOKE      CH2O SCC       FAF  \\\n",
       "0  yes  2.000000  2.983297   Sometimes    no  2.763573  no  0.000000   \n",
       "1  yes  2.000000  3.000000  Frequently    no  2.000000  no  1.000000   \n",
       "2  yes  1.880534  1.411685   Sometimes    no  1.910378  no  0.866045   \n",
       "3  yes  3.000000  3.000000   Sometimes    no  1.674061  no  1.467863   \n",
       "4  yes  2.679664  1.971472   Sometimes    no  1.979848  no  1.967973   \n",
       "\n",
       "        TUE       CALC                 MTRANS           NObeyesdad  \n",
       "0  0.976473  Sometimes  Public_Transportation  Overweight_Level_II  \n",
       "1  1.000000         no             Automobile        Normal_Weight  \n",
       "2  1.673584         no  Public_Transportation  Insufficient_Weight  \n",
       "3  0.780199  Sometimes  Public_Transportation     Obesity_Type_III  \n",
       "4  0.931721  Sometimes  Public_Transportation  Overweight_Level_II  "
      ]
     },
     "execution_count": 9,
     "metadata": {},
     "output_type": "execute_result"
    }
   ],
   "source": [
    "dft.head()"
   ]
  },
  {
   "cell_type": "code",
   "execution_count": 10,
   "id": "e9e9feef",
   "metadata": {
    "execution": {
     "iopub.execute_input": "2024-02-13T12:32:12.335082Z",
     "iopub.status.busy": "2024-02-13T12:32:12.334775Z",
     "iopub.status.idle": "2024-02-13T12:32:12.362416Z",
     "shell.execute_reply": "2024-02-13T12:32:12.361567Z"
    },
    "papermill": {
     "duration": 0.042332,
     "end_time": "2024-02-13T12:32:12.364326",
     "exception": false,
     "start_time": "2024-02-13T12:32:12.321994",
     "status": "completed"
    },
    "tags": []
   },
   "outputs": [],
   "source": [
    "dft.drop_duplicates(inplace=True)"
   ]
  },
  {
   "cell_type": "code",
   "execution_count": 11,
   "id": "77e97301",
   "metadata": {
    "execution": {
     "iopub.execute_input": "2024-02-13T12:32:12.390136Z",
     "iopub.status.busy": "2024-02-13T12:32:12.389403Z",
     "iopub.status.idle": "2024-02-13T12:32:12.394544Z",
     "shell.execute_reply": "2024-02-13T12:32:12.393773Z"
    },
    "papermill": {
     "duration": 0.019863,
     "end_time": "2024-02-13T12:32:12.396358",
     "exception": false,
     "start_time": "2024-02-13T12:32:12.376495",
     "status": "completed"
    },
    "tags": []
   },
   "outputs": [
    {
     "data": {
      "text/plain": [
       "(20758, 17)"
      ]
     },
     "execution_count": 11,
     "metadata": {},
     "output_type": "execute_result"
    }
   ],
   "source": [
    "dft.shape"
   ]
  },
  {
   "cell_type": "markdown",
   "id": "1a0e3622",
   "metadata": {
    "papermill": {
     "duration": 0.013528,
     "end_time": "2024-02-13T12:32:12.422606",
     "exception": false,
     "start_time": "2024-02-13T12:32:12.409078",
     "status": "completed"
    },
    "tags": []
   },
   "source": [
    "# targert variable "
   ]
  },
  {
   "cell_type": "code",
   "execution_count": 12,
   "id": "9185011b",
   "metadata": {
    "execution": {
     "iopub.execute_input": "2024-02-13T12:32:12.448027Z",
     "iopub.status.busy": "2024-02-13T12:32:12.447731Z",
     "iopub.status.idle": "2024-02-13T12:32:12.454756Z",
     "shell.execute_reply": "2024-02-13T12:32:12.454084Z"
    },
    "papermill": {
     "duration": 0.021768,
     "end_time": "2024-02-13T12:32:12.456599",
     "exception": false,
     "start_time": "2024-02-13T12:32:12.434831",
     "status": "completed"
    },
    "tags": []
   },
   "outputs": [],
   "source": [
    "x = dft.drop('NObeyesdad', axis=1)  \n",
    "y = dft['NObeyesdad']  "
   ]
  },
  {
   "cell_type": "markdown",
   "id": "0b6058e7",
   "metadata": {
    "papermill": {
     "duration": 0.012364,
     "end_time": "2024-02-13T12:32:12.481354",
     "exception": false,
     "start_time": "2024-02-13T12:32:12.468990",
     "status": "completed"
    },
    "tags": []
   },
   "source": [
    "# encoding"
   ]
  },
  {
   "cell_type": "code",
   "execution_count": 13,
   "id": "0d77ca3d",
   "metadata": {
    "execution": {
     "iopub.execute_input": "2024-02-13T12:32:12.506662Z",
     "iopub.status.busy": "2024-02-13T12:32:12.506418Z",
     "iopub.status.idle": "2024-02-13T12:32:12.510112Z",
     "shell.execute_reply": "2024-02-13T12:32:12.509350Z"
    },
    "papermill": {
     "duration": 0.018313,
     "end_time": "2024-02-13T12:32:12.511919",
     "exception": false,
     "start_time": "2024-02-13T12:32:12.493606",
     "status": "completed"
    },
    "tags": []
   },
   "outputs": [],
   "source": [
    "le = LabelEncoder()\n",
    "sc = StandardScaler()"
   ]
  },
  {
   "cell_type": "code",
   "execution_count": 14,
   "id": "4d8fd779",
   "metadata": {
    "execution": {
     "iopub.execute_input": "2024-02-13T12:32:12.538227Z",
     "iopub.status.busy": "2024-02-13T12:32:12.537625Z",
     "iopub.status.idle": "2024-02-13T12:32:12.585854Z",
     "shell.execute_reply": "2024-02-13T12:32:12.585015Z"
    },
    "papermill": {
     "duration": 0.062938,
     "end_time": "2024-02-13T12:32:12.587727",
     "exception": false,
     "start_time": "2024-02-13T12:32:12.524789",
     "status": "completed"
    },
    "tags": []
   },
   "outputs": [],
   "source": [
    "categorical_columns = ['Gender','family_history_with_overweight','FAVC','SMOKE','SCC','CAEC','CALC','MTRANS']  \n",
    "for col in categorical_columns:\n",
    "    x[col] = le.fit_transform(x[col])"
   ]
  },
  {
   "cell_type": "code",
   "execution_count": 15,
   "id": "4022a1ce",
   "metadata": {
    "execution": {
     "iopub.execute_input": "2024-02-13T12:32:12.613773Z",
     "iopub.status.busy": "2024-02-13T12:32:12.613506Z",
     "iopub.status.idle": "2024-02-13T12:32:12.619252Z",
     "shell.execute_reply": "2024-02-13T12:32:12.617968Z"
    },
    "papermill": {
     "duration": 0.021432,
     "end_time": "2024-02-13T12:32:12.621485",
     "exception": false,
     "start_time": "2024-02-13T12:32:12.600053",
     "status": "completed"
    },
    "tags": []
   },
   "outputs": [
    {
     "name": "stdout",
     "output_type": "stream",
     "text": [
      "Gender                              int64\n",
      "Age                               float64\n",
      "Height                            float64\n",
      "Weight                            float64\n",
      "family_history_with_overweight      int64\n",
      "FAVC                                int64\n",
      "FCVC                              float64\n",
      "NCP                               float64\n",
      "CAEC                                int64\n",
      "SMOKE                               int64\n",
      "CH2O                              float64\n",
      "SCC                                 int64\n",
      "FAF                               float64\n",
      "TUE                               float64\n",
      "CALC                                int64\n",
      "MTRANS                              int64\n",
      "dtype: object\n"
     ]
    }
   ],
   "source": [
    "print(x.dtypes)"
   ]
  },
  {
   "cell_type": "code",
   "execution_count": 16,
   "id": "e6c72fe1",
   "metadata": {
    "execution": {
     "iopub.execute_input": "2024-02-13T12:32:12.648911Z",
     "iopub.status.busy": "2024-02-13T12:32:12.648629Z",
     "iopub.status.idle": "2024-02-13T12:32:12.684406Z",
     "shell.execute_reply": "2024-02-13T12:32:12.683520Z"
    },
    "papermill": {
     "duration": 0.051286,
     "end_time": "2024-02-13T12:32:12.686556",
     "exception": false,
     "start_time": "2024-02-13T12:32:12.635270",
     "status": "completed"
    },
    "tags": []
   },
   "outputs": [],
   "source": [
    "numerical_columns = ['Age', 'Height', 'Weight','FCVC', 'NCP', 'CH2O', 'FAF', 'TUE',\n",
    "       'CALC', 'MTRANS']\n",
    "\n",
    "# Scale numerical columns using StandardScaler\n",
    "for num_col in numerical_columns:\n",
    "    x[num_col] = sc.fit_transform(x[[num_col]])"
   ]
  },
  {
   "cell_type": "code",
   "execution_count": 17,
   "id": "3561c29a",
   "metadata": {
    "execution": {
     "iopub.execute_input": "2024-02-13T12:32:12.713139Z",
     "iopub.status.busy": "2024-02-13T12:32:12.712848Z",
     "iopub.status.idle": "2024-02-13T12:32:12.718398Z",
     "shell.execute_reply": "2024-02-13T12:32:12.717448Z"
    },
    "papermill": {
     "duration": 0.021299,
     "end_time": "2024-02-13T12:32:12.720888",
     "exception": false,
     "start_time": "2024-02-13T12:32:12.699589",
     "status": "completed"
    },
    "tags": []
   },
   "outputs": [
    {
     "name": "stdout",
     "output_type": "stream",
     "text": [
      "Gender                              int64\n",
      "Age                               float64\n",
      "Height                            float64\n",
      "Weight                            float64\n",
      "family_history_with_overweight      int64\n",
      "FAVC                                int64\n",
      "FCVC                              float64\n",
      "NCP                               float64\n",
      "CAEC                                int64\n",
      "SMOKE                               int64\n",
      "CH2O                              float64\n",
      "SCC                                 int64\n",
      "FAF                               float64\n",
      "TUE                               float64\n",
      "CALC                              float64\n",
      "MTRANS                            float64\n",
      "dtype: object\n"
     ]
    }
   ],
   "source": [
    "print(x.dtypes)"
   ]
  },
  {
   "cell_type": "code",
   "execution_count": 18,
   "id": "04c8c3b6",
   "metadata": {
    "execution": {
     "iopub.execute_input": "2024-02-13T12:32:12.747664Z",
     "iopub.status.busy": "2024-02-13T12:32:12.747421Z",
     "iopub.status.idle": "2024-02-13T12:32:12.764356Z",
     "shell.execute_reply": "2024-02-13T12:32:12.763530Z"
    },
    "papermill": {
     "duration": 0.032254,
     "end_time": "2024-02-13T12:32:12.766241",
     "exception": false,
     "start_time": "2024-02-13T12:32:12.733987",
     "status": "completed"
    },
    "tags": []
   },
   "outputs": [
    {
     "data": {
      "text/html": [
       "<div>\n",
       "<style scoped>\n",
       "    .dataframe tbody tr th:only-of-type {\n",
       "        vertical-align: middle;\n",
       "    }\n",
       "\n",
       "    .dataframe tbody tr th {\n",
       "        vertical-align: top;\n",
       "    }\n",
       "\n",
       "    .dataframe thead th {\n",
       "        text-align: right;\n",
       "    }\n",
       "</style>\n",
       "<table border=\"1\" class=\"dataframe\">\n",
       "  <thead>\n",
       "    <tr style=\"text-align: right;\">\n",
       "      <th></th>\n",
       "      <th>Gender</th>\n",
       "      <th>Age</th>\n",
       "      <th>Height</th>\n",
       "      <th>Weight</th>\n",
       "      <th>family_history_with_overweight</th>\n",
       "      <th>FAVC</th>\n",
       "      <th>FCVC</th>\n",
       "      <th>NCP</th>\n",
       "      <th>CAEC</th>\n",
       "      <th>SMOKE</th>\n",
       "      <th>CH2O</th>\n",
       "      <th>SCC</th>\n",
       "      <th>FAF</th>\n",
       "      <th>TUE</th>\n",
       "      <th>CALC</th>\n",
       "      <th>MTRANS</th>\n",
       "    </tr>\n",
       "  </thead>\n",
       "  <tbody>\n",
       "    <tr>\n",
       "      <th>0</th>\n",
       "      <td>1</td>\n",
       "      <td>0.105699</td>\n",
       "      <td>-0.002828</td>\n",
       "      <td>-0.235713</td>\n",
       "      <td>1</td>\n",
       "      <td>1</td>\n",
       "      <td>-0.836279</td>\n",
       "      <td>0.314684</td>\n",
       "      <td>2</td>\n",
       "      <td>0</td>\n",
       "      <td>1.206594</td>\n",
       "      <td>0</td>\n",
       "      <td>-1.171141</td>\n",
       "      <td>0.597438</td>\n",
       "      <td>-0.471288</td>\n",
       "      <td>0.429319</td>\n",
       "    </tr>\n",
       "    <tr>\n",
       "      <th>1</th>\n",
       "      <td>0</td>\n",
       "      <td>-1.027052</td>\n",
       "      <td>-1.606291</td>\n",
       "      <td>-1.170931</td>\n",
       "      <td>1</td>\n",
       "      <td>1</td>\n",
       "      <td>-0.836279</td>\n",
       "      <td>0.338364</td>\n",
       "      <td>1</td>\n",
       "      <td>0</td>\n",
       "      <td>-0.048349</td>\n",
       "      <td>0</td>\n",
       "      <td>0.021775</td>\n",
       "      <td>0.636513</td>\n",
       "      <td>1.639846</td>\n",
       "      <td>-2.182324</td>\n",
       "    </tr>\n",
       "    <tr>\n",
       "      <th>2</th>\n",
       "      <td>0</td>\n",
       "      <td>-1.027052</td>\n",
       "      <td>0.128451</td>\n",
       "      <td>-1.430012</td>\n",
       "      <td>1</td>\n",
       "      <td>1</td>\n",
       "      <td>-1.060332</td>\n",
       "      <td>-1.913423</td>\n",
       "      <td>2</td>\n",
       "      <td>0</td>\n",
       "      <td>-0.195644</td>\n",
       "      <td>0</td>\n",
       "      <td>-0.138022</td>\n",
       "      <td>1.755239</td>\n",
       "      <td>1.639846</td>\n",
       "      <td>0.429319</td>\n",
       "    </tr>\n",
       "    <tr>\n",
       "      <th>3</th>\n",
       "      <td>0</td>\n",
       "      <td>-0.507929</td>\n",
       "      <td>0.120090</td>\n",
       "      <td>1.644770</td>\n",
       "      <td>1</td>\n",
       "      <td>1</td>\n",
       "      <td>1.039171</td>\n",
       "      <td>0.338364</td>\n",
       "      <td>2</td>\n",
       "      <td>0</td>\n",
       "      <td>-0.584035</td>\n",
       "      <td>0</td>\n",
       "      <td>0.579896</td>\n",
       "      <td>0.271455</td>\n",
       "      <td>-0.471288</td>\n",
       "      <td>0.429319</td>\n",
       "    </tr>\n",
       "    <tr>\n",
       "      <th>4</th>\n",
       "      <td>1</td>\n",
       "      <td>1.371197</td>\n",
       "      <td>2.450367</td>\n",
       "      <td>0.224054</td>\n",
       "      <td>1</td>\n",
       "      <td>1</td>\n",
       "      <td>0.438397</td>\n",
       "      <td>-1.119801</td>\n",
       "      <td>2</td>\n",
       "      <td>0</td>\n",
       "      <td>-0.081469</td>\n",
       "      <td>0</td>\n",
       "      <td>1.176486</td>\n",
       "      <td>0.523111</td>\n",
       "      <td>-0.471288</td>\n",
       "      <td>0.429319</td>\n",
       "    </tr>\n",
       "  </tbody>\n",
       "</table>\n",
       "</div>"
      ],
      "text/plain": [
       "   Gender       Age    Height    Weight  family_history_with_overweight  FAVC  \\\n",
       "0       1  0.105699 -0.002828 -0.235713                               1     1   \n",
       "1       0 -1.027052 -1.606291 -1.170931                               1     1   \n",
       "2       0 -1.027052  0.128451 -1.430012                               1     1   \n",
       "3       0 -0.507929  0.120090  1.644770                               1     1   \n",
       "4       1  1.371197  2.450367  0.224054                               1     1   \n",
       "\n",
       "       FCVC       NCP  CAEC  SMOKE      CH2O  SCC       FAF       TUE  \\\n",
       "0 -0.836279  0.314684     2      0  1.206594    0 -1.171141  0.597438   \n",
       "1 -0.836279  0.338364     1      0 -0.048349    0  0.021775  0.636513   \n",
       "2 -1.060332 -1.913423     2      0 -0.195644    0 -0.138022  1.755239   \n",
       "3  1.039171  0.338364     2      0 -0.584035    0  0.579896  0.271455   \n",
       "4  0.438397 -1.119801     2      0 -0.081469    0  1.176486  0.523111   \n",
       "\n",
       "       CALC    MTRANS  \n",
       "0 -0.471288  0.429319  \n",
       "1  1.639846 -2.182324  \n",
       "2  1.639846  0.429319  \n",
       "3 -0.471288  0.429319  \n",
       "4 -0.471288  0.429319  "
      ]
     },
     "execution_count": 18,
     "metadata": {},
     "output_type": "execute_result"
    }
   ],
   "source": [
    "x.head()"
   ]
  },
  {
   "cell_type": "code",
   "execution_count": 19,
   "id": "027d6af0",
   "metadata": {
    "execution": {
     "iopub.execute_input": "2024-02-13T12:32:12.792682Z",
     "iopub.status.busy": "2024-02-13T12:32:12.792437Z",
     "iopub.status.idle": "2024-02-13T12:32:12.801387Z",
     "shell.execute_reply": "2024-02-13T12:32:12.800577Z"
    },
    "papermill": {
     "duration": 0.024267,
     "end_time": "2024-02-13T12:32:12.803306",
     "exception": false,
     "start_time": "2024-02-13T12:32:12.779039",
     "status": "completed"
    },
    "tags": []
   },
   "outputs": [],
   "source": [
    "y = le.fit_transform(y)"
   ]
  },
  {
   "cell_type": "markdown",
   "id": "a766e2f2",
   "metadata": {
    "papermill": {
     "duration": 0.051494,
     "end_time": "2024-02-13T12:32:12.867978",
     "exception": false,
     "start_time": "2024-02-13T12:32:12.816484",
     "status": "completed"
    },
    "tags": []
   },
   "source": [
    "# data split"
   ]
  },
  {
   "cell_type": "code",
   "execution_count": 20,
   "id": "218cf78e",
   "metadata": {
    "execution": {
     "iopub.execute_input": "2024-02-13T12:32:12.895534Z",
     "iopub.status.busy": "2024-02-13T12:32:12.894704Z",
     "iopub.status.idle": "2024-02-13T12:32:12.906987Z",
     "shell.execute_reply": "2024-02-13T12:32:12.906275Z"
    },
    "papermill": {
     "duration": 0.027999,
     "end_time": "2024-02-13T12:32:12.908997",
     "exception": false,
     "start_time": "2024-02-13T12:32:12.880998",
     "status": "completed"
    },
    "tags": []
   },
   "outputs": [],
   "source": [
    "X_train, X_test, y_train, y_test = train_test_split(x, y, test_size=0.2, random_state=42)"
   ]
  },
  {
   "cell_type": "code",
   "execution_count": 21,
   "id": "2625947f",
   "metadata": {
    "execution": {
     "iopub.execute_input": "2024-02-13T12:32:12.936234Z",
     "iopub.status.busy": "2024-02-13T12:32:12.935953Z",
     "iopub.status.idle": "2024-02-13T12:32:15.051070Z",
     "shell.execute_reply": "2024-02-13T12:32:15.050149Z"
    },
    "papermill": {
     "duration": 2.133698,
     "end_time": "2024-02-13T12:32:15.055763",
     "exception": false,
     "start_time": "2024-02-13T12:32:12.922065",
     "status": "completed"
    },
    "tags": []
   },
   "outputs": [
    {
     "data": {
      "image/png": "[encoded data removed]",
      "text/plain": [
       "<Figure size 4500x4000 with 2 Axes>"
      ]
     },
     "metadata": {},
     "output_type": "display_data"
    }
   ],
   "source": [
    "import matplotlib.pyplot as plt\n",
    "import seaborn as sns\n",
    "\n",
    "\n",
    "scaler = StandardScaler()\n",
    "acc_corr_nor=scaler.fit_transform(x)\n",
    "acc_corr_nor_df = pd.DataFrame(acc_corr_nor, columns=x.columns)\n",
    "correlation_matrix = acc_corr_nor_df.corr()\n",
    "\n",
    "# Create a heatmap\n",
    "plt.figure(figsize=(45, 40))\n",
    "sns.heatmap(correlation_matrix, annot=True, cmap='coolwarm', fmt=\".2f\", linewidths=0.5)\n",
    "plt.title('Correlation Heatmap of Features')\n",
    "plt.show()"
   ]
  },
  {
   "cell_type": "markdown",
   "id": "7b51a272",
   "metadata": {
    "papermill": {
     "duration": 0.016194,
     "end_time": "2024-02-13T12:32:15.088618",
     "exception": false,
     "start_time": "2024-02-13T12:32:15.072424",
     "status": "completed"
    },
    "tags": []
   },
   "source": [
    "# Training"
   ]
  },
  {
   "cell_type": "markdown",
   "id": "c9a97747",
   "metadata": {
    "papermill": {
     "duration": 0.016497,
     "end_time": "2024-02-13T12:32:15.122171",
     "exception": false,
     "start_time": "2024-02-13T12:32:15.105674",
     "status": "completed"
    },
    "tags": []
   },
   "source": [
    "# Linear regression"
   ]
  },
  {
   "cell_type": "code",
   "execution_count": 22,
   "id": "3a0c6274",
   "metadata": {
    "execution": {
     "iopub.execute_input": "2024-02-13T12:32:15.157193Z",
     "iopub.status.busy": "2024-02-13T12:32:15.156758Z",
     "iopub.status.idle": "2024-02-13T12:32:15.656616Z",
     "shell.execute_reply": "2024-02-13T12:32:15.655841Z"
    },
    "papermill": {
     "duration": 0.520142,
     "end_time": "2024-02-13T12:32:15.659124",
     "exception": false,
     "start_time": "2024-02-13T12:32:15.138982",
     "status": "completed"
    },
    "tags": []
   },
   "outputs": [],
   "source": [
    "from imblearn.over_sampling import RandomOverSampler\n",
    "from imblearn.under_sampling import RandomUnderSampler\n",
    "\n",
    "# Handling class imbalance using oversampling and undersampling\n",
    "over_sampler = RandomOverSampler(sampling_strategy='auto', random_state=42)\n",
    "under_sampler = RandomUnderSampler(sampling_strategy='auto', random_state=42)"
   ]
  },
  {
   "cell_type": "code",
   "execution_count": 23,
   "id": "e45c8aad",
   "metadata": {
    "execution": {
     "iopub.execute_input": "2024-02-13T12:32:15.694698Z",
     "iopub.status.busy": "2024-02-13T12:32:15.693691Z",
     "iopub.status.idle": "2024-02-13T12:32:16.744882Z",
     "shell.execute_reply": "2024-02-13T12:32:16.743542Z"
    },
    "papermill": {
     "duration": 1.07604,
     "end_time": "2024-02-13T12:32:16.752587",
     "exception": false,
     "start_time": "2024-02-13T12:32:15.676547",
     "status": "completed"
    },
    "tags": []
   },
   "outputs": [
    {
     "name": "stdout",
     "output_type": "stream",
     "text": [
      "Logisticr= regression Classification Report:\n",
      "              precision    recall  f1-score   support\n",
      "\n",
      "           0       0.86      0.94      0.90       524\n",
      "           1       0.87      0.76      0.81       626\n",
      "           2       0.83      0.83      0.83       543\n",
      "           3       0.96      0.97      0.97       657\n",
      "           4       1.00      1.00      1.00       804\n",
      "           5       0.68      0.74      0.71       484\n",
      "           6       0.71      0.68      0.70       514\n",
      "\n",
      "    accuracy                           0.86      4152\n",
      "   macro avg       0.84      0.85      0.84      4152\n",
      "weighted avg       0.86      0.86      0.86      4152\n",
      "\n",
      "Accuracy: 0.859344894026975\n"
     ]
    },
    {
     "name": "stderr",
     "output_type": "stream",
     "text": [
      "/opt/conda/lib/python3.10/site-packages/sklearn/linear_model/_logistic.py:458: ConvergenceWarning: lbfgs failed to converge (status=1):\n",
      "STOP: TOTAL NO. of ITERATIONS REACHED LIMIT.\n",
      "\n",
      "Increase the number of iterations (max_iter) or scale the data as shown in:\n",
      "    https://scikit-learn.org/stable/modules/preprocessing.html\n",
      "Please also refer to the documentation for alternative solver options:\n",
      "    https://scikit-learn.org/stable/modules/linear_model.html#logistic-regression\n",
      "  n_iter_i = _check_optimize_result(\n"
     ]
    }
   ],
   "source": [
    "# linear regression with class imbalance handling\n",
    "from sklearn.linear_model import LogisticRegression\n",
    "from imblearn.pipeline import Pipeline\n",
    "from sklearn.metrics import classification_report, accuracy_score, confusion_matrix, f1_score,recall_score,precision_score\n",
    "\n",
    "lr_model = LogisticRegression()\n",
    "lr_pipeline = Pipeline([\n",
    "    ('over_sampler', over_sampler),\n",
    "    ('under_sampler', under_sampler),\n",
    "    ('lr_model', lr_model)\n",
    "])\n",
    "\n",
    "scaler = StandardScaler()\n",
    "X_train_scaled = scaler.fit_transform(X_train)\n",
    "X_test_scaled = scaler.transform(X_test)\n",
    "\n",
    "lr_pipeline.fit(X_train_scaled, y_train)\n",
    "lr_predictions = lr_pipeline.predict(X_test_scaled)\n",
    "print(\"Logisticr= regression Classification Report:\")\n",
    "print(classification_report(y_test, lr_predictions))\n",
    "print(\"Accuracy:\", accuracy_score(y_test, lr_predictions))\n",
    "cm_lr_pca=confusion_matrix(y_test, lr_predictions)"
   ]
  },
  {
   "cell_type": "code",
   "execution_count": 24,
   "id": "0271edcd",
   "metadata": {
    "execution": {
     "iopub.execute_input": "2024-02-13T12:32:16.826321Z",
     "iopub.status.busy": "2024-02-13T12:32:16.825770Z",
     "iopub.status.idle": "2024-02-13T12:32:16.848606Z",
     "shell.execute_reply": "2024-02-13T12:32:16.847907Z"
    },
    "papermill": {
     "duration": 0.060391,
     "end_time": "2024-02-13T12:32:16.850337",
     "exception": false,
     "start_time": "2024-02-13T12:32:16.789946",
     "status": "completed"
    },
    "tags": []
   },
   "outputs": [
    {
     "data": {
      "text/html": [
       "<div>\n",
       "<style scoped>\n",
       "    .dataframe tbody tr th:only-of-type {\n",
       "        vertical-align: middle;\n",
       "    }\n",
       "\n",
       "    .dataframe tbody tr th {\n",
       "        vertical-align: top;\n",
       "    }\n",
       "\n",
       "    .dataframe thead th {\n",
       "        text-align: right;\n",
       "    }\n",
       "</style>\n",
       "<table border=\"1\" class=\"dataframe\">\n",
       "  <thead>\n",
       "    <tr style=\"text-align: right;\">\n",
       "      <th></th>\n",
       "      <th>id</th>\n",
       "      <th>Gender</th>\n",
       "      <th>Age</th>\n",
       "      <th>Height</th>\n",
       "      <th>Weight</th>\n",
       "      <th>family_history_with_overweight</th>\n",
       "      <th>FAVC</th>\n",
       "      <th>FCVC</th>\n",
       "      <th>NCP</th>\n",
       "      <th>CAEC</th>\n",
       "      <th>SMOKE</th>\n",
       "      <th>CH2O</th>\n",
       "      <th>SCC</th>\n",
       "      <th>FAF</th>\n",
       "      <th>TUE</th>\n",
       "      <th>CALC</th>\n",
       "      <th>MTRANS</th>\n",
       "    </tr>\n",
       "  </thead>\n",
       "  <tbody>\n",
       "    <tr>\n",
       "      <th>0</th>\n",
       "      <td>20758</td>\n",
       "      <td>Male</td>\n",
       "      <td>26.899886</td>\n",
       "      <td>1.848294</td>\n",
       "      <td>120.644178</td>\n",
       "      <td>yes</td>\n",
       "      <td>yes</td>\n",
       "      <td>2.938616</td>\n",
       "      <td>3.000000</td>\n",
       "      <td>Sometimes</td>\n",
       "      <td>no</td>\n",
       "      <td>2.825629</td>\n",
       "      <td>no</td>\n",
       "      <td>0.855400</td>\n",
       "      <td>0.000000</td>\n",
       "      <td>Sometimes</td>\n",
       "      <td>Public_Transportation</td>\n",
       "    </tr>\n",
       "    <tr>\n",
       "      <th>1</th>\n",
       "      <td>20759</td>\n",
       "      <td>Female</td>\n",
       "      <td>21.000000</td>\n",
       "      <td>1.600000</td>\n",
       "      <td>66.000000</td>\n",
       "      <td>yes</td>\n",
       "      <td>yes</td>\n",
       "      <td>2.000000</td>\n",
       "      <td>1.000000</td>\n",
       "      <td>Sometimes</td>\n",
       "      <td>no</td>\n",
       "      <td>3.000000</td>\n",
       "      <td>no</td>\n",
       "      <td>1.000000</td>\n",
       "      <td>0.000000</td>\n",
       "      <td>Sometimes</td>\n",
       "      <td>Public_Transportation</td>\n",
       "    </tr>\n",
       "    <tr>\n",
       "      <th>2</th>\n",
       "      <td>20760</td>\n",
       "      <td>Female</td>\n",
       "      <td>26.000000</td>\n",
       "      <td>1.643355</td>\n",
       "      <td>111.600553</td>\n",
       "      <td>yes</td>\n",
       "      <td>yes</td>\n",
       "      <td>3.000000</td>\n",
       "      <td>3.000000</td>\n",
       "      <td>Sometimes</td>\n",
       "      <td>no</td>\n",
       "      <td>2.621877</td>\n",
       "      <td>no</td>\n",
       "      <td>0.000000</td>\n",
       "      <td>0.250502</td>\n",
       "      <td>Sometimes</td>\n",
       "      <td>Public_Transportation</td>\n",
       "    </tr>\n",
       "    <tr>\n",
       "      <th>3</th>\n",
       "      <td>20761</td>\n",
       "      <td>Male</td>\n",
       "      <td>20.979254</td>\n",
       "      <td>1.553127</td>\n",
       "      <td>103.669116</td>\n",
       "      <td>yes</td>\n",
       "      <td>yes</td>\n",
       "      <td>2.000000</td>\n",
       "      <td>2.977909</td>\n",
       "      <td>Sometimes</td>\n",
       "      <td>no</td>\n",
       "      <td>2.786417</td>\n",
       "      <td>no</td>\n",
       "      <td>0.094851</td>\n",
       "      <td>0.000000</td>\n",
       "      <td>Sometimes</td>\n",
       "      <td>Public_Transportation</td>\n",
       "    </tr>\n",
       "    <tr>\n",
       "      <th>4</th>\n",
       "      <td>20762</td>\n",
       "      <td>Female</td>\n",
       "      <td>26.000000</td>\n",
       "      <td>1.627396</td>\n",
       "      <td>104.835346</td>\n",
       "      <td>yes</td>\n",
       "      <td>yes</td>\n",
       "      <td>3.000000</td>\n",
       "      <td>3.000000</td>\n",
       "      <td>Sometimes</td>\n",
       "      <td>no</td>\n",
       "      <td>2.653531</td>\n",
       "      <td>no</td>\n",
       "      <td>0.000000</td>\n",
       "      <td>0.741069</td>\n",
       "      <td>Sometimes</td>\n",
       "      <td>Public_Transportation</td>\n",
       "    </tr>\n",
       "  </tbody>\n",
       "</table>\n",
       "</div>"
      ],
      "text/plain": [
       "      id  Gender        Age    Height      Weight  \\\n",
       "0  20758    Male  26.899886  1.848294  120.644178   \n",
       "1  20759  Female  21.000000  1.600000   66.000000   \n",
       "2  20760  Female  26.000000  1.643355  111.600553   \n",
       "3  20761    Male  20.979254  1.553127  103.669116   \n",
       "4  20762  Female  26.000000  1.627396  104.835346   \n",
       "\n",
       "  family_history_with_overweight FAVC      FCVC       NCP       CAEC SMOKE  \\\n",
       "0                            yes  yes  2.938616  3.000000  Sometimes    no   \n",
       "1                            yes  yes  2.000000  1.000000  Sometimes    no   \n",
       "2                            yes  yes  3.000000  3.000000  Sometimes    no   \n",
       "3                            yes  yes  2.000000  2.977909  Sometimes    no   \n",
       "4                            yes  yes  3.000000  3.000000  Sometimes    no   \n",
       "\n",
       "       CH2O SCC       FAF       TUE       CALC                 MTRANS  \n",
       "0  2.825629  no  0.855400  0.000000  Sometimes  Public_Transportation  \n",
       "1  3.000000  no  1.000000  0.000000  Sometimes  Public_Transportation  \n",
       "2  2.621877  no  0.000000  0.250502  Sometimes  Public_Transportation  \n",
       "3  2.786417  no  0.094851  0.000000  Sometimes  Public_Transportation  \n",
       "4  2.653531  no  0.000000  0.741069  Sometimes  Public_Transportation  "
      ]
     },
     "execution_count": 24,
     "metadata": {},
     "output_type": "execute_result"
    }
   ],
   "source": [
    "df_test.head()"
   ]
  },
  {
   "cell_type": "code",
   "execution_count": 25,
   "id": "c07889e1",
   "metadata": {
    "execution": {
     "iopub.execute_input": "2024-02-13T12:32:16.884683Z",
     "iopub.status.busy": "2024-02-13T12:32:16.884420Z",
     "iopub.status.idle": "2024-02-13T12:32:16.888274Z",
     "shell.execute_reply": "2024-02-13T12:32:16.887524Z"
    },
    "papermill": {
     "duration": 0.02332,
     "end_time": "2024-02-13T12:32:16.890087",
     "exception": false,
     "start_time": "2024-02-13T12:32:16.866767",
     "status": "completed"
    },
    "tags": []
   },
   "outputs": [],
   "source": [
    "ids=df_test['id']"
   ]
  },
  {
   "cell_type": "code",
   "execution_count": 26,
   "id": "f086a851",
   "metadata": {
    "execution": {
     "iopub.execute_input": "2024-02-13T12:32:16.924031Z",
     "iopub.status.busy": "2024-02-13T12:32:16.923767Z",
     "iopub.status.idle": "2024-02-13T12:32:16.929091Z",
     "shell.execute_reply": "2024-02-13T12:32:16.928212Z"
    },
    "papermill": {
     "duration": 0.024492,
     "end_time": "2024-02-13T12:32:16.930853",
     "exception": false,
     "start_time": "2024-02-13T12:32:16.906361",
     "status": "completed"
    },
    "tags": []
   },
   "outputs": [],
   "source": [
    "dfv = df_test.drop('id', axis = 1)"
   ]
  },
  {
   "cell_type": "code",
   "execution_count": 27,
   "id": "0f7c696e",
   "metadata": {
    "execution": {
     "iopub.execute_input": "2024-02-13T12:32:16.964394Z",
     "iopub.status.busy": "2024-02-13T12:32:16.964127Z",
     "iopub.status.idle": "2024-02-13T12:32:16.981422Z",
     "shell.execute_reply": "2024-02-13T12:32:16.980527Z"
    },
    "papermill": {
     "duration": 0.036186,
     "end_time": "2024-02-13T12:32:16.983264",
     "exception": false,
     "start_time": "2024-02-13T12:32:16.947078",
     "status": "completed"
    },
    "tags": []
   },
   "outputs": [
    {
     "data": {
      "text/html": [
       "<div>\n",
       "<style scoped>\n",
       "    .dataframe tbody tr th:only-of-type {\n",
       "        vertical-align: middle;\n",
       "    }\n",
       "\n",
       "    .dataframe tbody tr th {\n",
       "        vertical-align: top;\n",
       "    }\n",
       "\n",
       "    .dataframe thead th {\n",
       "        text-align: right;\n",
       "    }\n",
       "</style>\n",
       "<table border=\"1\" class=\"dataframe\">\n",
       "  <thead>\n",
       "    <tr style=\"text-align: right;\">\n",
       "      <th></th>\n",
       "      <th>Gender</th>\n",
       "      <th>Age</th>\n",
       "      <th>Height</th>\n",
       "      <th>Weight</th>\n",
       "      <th>family_history_with_overweight</th>\n",
       "      <th>FAVC</th>\n",
       "      <th>FCVC</th>\n",
       "      <th>NCP</th>\n",
       "      <th>CAEC</th>\n",
       "      <th>SMOKE</th>\n",
       "      <th>CH2O</th>\n",
       "      <th>SCC</th>\n",
       "      <th>FAF</th>\n",
       "      <th>TUE</th>\n",
       "      <th>CALC</th>\n",
       "      <th>MTRANS</th>\n",
       "    </tr>\n",
       "  </thead>\n",
       "  <tbody>\n",
       "    <tr>\n",
       "      <th>0</th>\n",
       "      <td>Male</td>\n",
       "      <td>26.899886</td>\n",
       "      <td>1.848294</td>\n",
       "      <td>120.644178</td>\n",
       "      <td>yes</td>\n",
       "      <td>yes</td>\n",
       "      <td>2.938616</td>\n",
       "      <td>3.000000</td>\n",
       "      <td>Sometimes</td>\n",
       "      <td>no</td>\n",
       "      <td>2.825629</td>\n",
       "      <td>no</td>\n",
       "      <td>0.855400</td>\n",
       "      <td>0.000000</td>\n",
       "      <td>Sometimes</td>\n",
       "      <td>Public_Transportation</td>\n",
       "    </tr>\n",
       "    <tr>\n",
       "      <th>1</th>\n",
       "      <td>Female</td>\n",
       "      <td>21.000000</td>\n",
       "      <td>1.600000</td>\n",
       "      <td>66.000000</td>\n",
       "      <td>yes</td>\n",
       "      <td>yes</td>\n",
       "      <td>2.000000</td>\n",
       "      <td>1.000000</td>\n",
       "      <td>Sometimes</td>\n",
       "      <td>no</td>\n",
       "      <td>3.000000</td>\n",
       "      <td>no</td>\n",
       "      <td>1.000000</td>\n",
       "      <td>0.000000</td>\n",
       "      <td>Sometimes</td>\n",
       "      <td>Public_Transportation</td>\n",
       "    </tr>\n",
       "    <tr>\n",
       "      <th>2</th>\n",
       "      <td>Female</td>\n",
       "      <td>26.000000</td>\n",
       "      <td>1.643355</td>\n",
       "      <td>111.600553</td>\n",
       "      <td>yes</td>\n",
       "      <td>yes</td>\n",
       "      <td>3.000000</td>\n",
       "      <td>3.000000</td>\n",
       "      <td>Sometimes</td>\n",
       "      <td>no</td>\n",
       "      <td>2.621877</td>\n",
       "      <td>no</td>\n",
       "      <td>0.000000</td>\n",
       "      <td>0.250502</td>\n",
       "      <td>Sometimes</td>\n",
       "      <td>Public_Transportation</td>\n",
       "    </tr>\n",
       "    <tr>\n",
       "      <th>3</th>\n",
       "      <td>Male</td>\n",
       "      <td>20.979254</td>\n",
       "      <td>1.553127</td>\n",
       "      <td>103.669116</td>\n",
       "      <td>yes</td>\n",
       "      <td>yes</td>\n",
       "      <td>2.000000</td>\n",
       "      <td>2.977909</td>\n",
       "      <td>Sometimes</td>\n",
       "      <td>no</td>\n",
       "      <td>2.786417</td>\n",
       "      <td>no</td>\n",
       "      <td>0.094851</td>\n",
       "      <td>0.000000</td>\n",
       "      <td>Sometimes</td>\n",
       "      <td>Public_Transportation</td>\n",
       "    </tr>\n",
       "    <tr>\n",
       "      <th>4</th>\n",
       "      <td>Female</td>\n",
       "      <td>26.000000</td>\n",
       "      <td>1.627396</td>\n",
       "      <td>104.835346</td>\n",
       "      <td>yes</td>\n",
       "      <td>yes</td>\n",
       "      <td>3.000000</td>\n",
       "      <td>3.000000</td>\n",
       "      <td>Sometimes</td>\n",
       "      <td>no</td>\n",
       "      <td>2.653531</td>\n",
       "      <td>no</td>\n",
       "      <td>0.000000</td>\n",
       "      <td>0.741069</td>\n",
       "      <td>Sometimes</td>\n",
       "      <td>Public_Transportation</td>\n",
       "    </tr>\n",
       "  </tbody>\n",
       "</table>\n",
       "</div>"
      ],
      "text/plain": [
       "   Gender        Age    Height      Weight family_history_with_overweight  \\\n",
       "0    Male  26.899886  1.848294  120.644178                            yes   \n",
       "1  Female  21.000000  1.600000   66.000000                            yes   \n",
       "2  Female  26.000000  1.643355  111.600553                            yes   \n",
       "3    Male  20.979254  1.553127  103.669116                            yes   \n",
       "4  Female  26.000000  1.627396  104.835346                            yes   \n",
       "\n",
       "  FAVC      FCVC       NCP       CAEC SMOKE      CH2O SCC       FAF       TUE  \\\n",
       "0  yes  2.938616  3.000000  Sometimes    no  2.825629  no  0.855400  0.000000   \n",
       "1  yes  2.000000  1.000000  Sometimes    no  3.000000  no  1.000000  0.000000   \n",
       "2  yes  3.000000  3.000000  Sometimes    no  2.621877  no  0.000000  0.250502   \n",
       "3  yes  2.000000  2.977909  Sometimes    no  2.786417  no  0.094851  0.000000   \n",
       "4  yes  3.000000  3.000000  Sometimes    no  2.653531  no  0.000000  0.741069   \n",
       "\n",
       "        CALC                 MTRANS  \n",
       "0  Sometimes  Public_Transportation  \n",
       "1  Sometimes  Public_Transportation  \n",
       "2  Sometimes  Public_Transportation  \n",
       "3  Sometimes  Public_Transportation  \n",
       "4  Sometimes  Public_Transportation  "
      ]
     },
     "execution_count": 27,
     "metadata": {},
     "output_type": "execute_result"
    }
   ],
   "source": [
    "dfv.head()"
   ]
  },
  {
   "cell_type": "code",
   "execution_count": 28,
   "id": "1cdd227b",
   "metadata": {
    "execution": {
     "iopub.execute_input": "2024-02-13T12:32:17.017599Z",
     "iopub.status.busy": "2024-02-13T12:32:17.017361Z",
     "iopub.status.idle": "2024-02-13T12:32:17.050609Z",
     "shell.execute_reply": "2024-02-13T12:32:17.049858Z"
    },
    "papermill": {
     "duration": 0.052519,
     "end_time": "2024-02-13T12:32:17.052420",
     "exception": false,
     "start_time": "2024-02-13T12:32:16.999901",
     "status": "completed"
    },
    "tags": []
   },
   "outputs": [],
   "source": [
    "categorical_columns = ['Gender','family_history_with_overweight','FAVC','SMOKE','SCC','CAEC','CALC','MTRANS']  \n",
    "for col in categorical_columns:\n",
    "    dfv[col] = le.fit_transform(dfv[col])"
   ]
  },
  {
   "cell_type": "code",
   "execution_count": 29,
   "id": "9d328d65",
   "metadata": {
    "execution": {
     "iopub.execute_input": "2024-02-13T12:32:17.086502Z",
     "iopub.status.busy": "2024-02-13T12:32:17.086266Z",
     "iopub.status.idle": "2024-02-13T12:32:17.120197Z",
     "shell.execute_reply": "2024-02-13T12:32:17.119265Z"
    },
    "papermill": {
     "duration": 0.053183,
     "end_time": "2024-02-13T12:32:17.122226",
     "exception": false,
     "start_time": "2024-02-13T12:32:17.069043",
     "status": "completed"
    },
    "tags": []
   },
   "outputs": [],
   "source": [
    "numerical_columns = ['Age', 'Height', 'Weight','FCVC', 'NCP', 'CH2O', 'FAF', 'TUE',\n",
    "       'CALC', 'MTRANS']\n",
    "\n",
    "# Scale numerical columns using StandardScaler\n",
    "for num_col in numerical_columns:\n",
    "    dfv[num_col] = sc.fit_transform(dfv[[num_col]])"
   ]
  },
  {
   "cell_type": "code",
   "execution_count": 30,
   "id": "00624129",
   "metadata": {
    "execution": {
     "iopub.execute_input": "2024-02-13T12:32:17.156845Z",
     "iopub.status.busy": "2024-02-13T12:32:17.156555Z",
     "iopub.status.idle": "2024-02-13T12:32:17.172662Z",
     "shell.execute_reply": "2024-02-13T12:32:17.171817Z"
    },
    "papermill": {
     "duration": 0.035446,
     "end_time": "2024-02-13T12:32:17.174590",
     "exception": false,
     "start_time": "2024-02-13T12:32:17.139144",
     "status": "completed"
    },
    "tags": []
   },
   "outputs": [
    {
     "data": {
      "text/html": [
       "<div>\n",
       "<style scoped>\n",
       "    .dataframe tbody tr th:only-of-type {\n",
       "        vertical-align: middle;\n",
       "    }\n",
       "\n",
       "    .dataframe tbody tr th {\n",
       "        vertical-align: top;\n",
       "    }\n",
       "\n",
       "    .dataframe thead th {\n",
       "        text-align: right;\n",
       "    }\n",
       "</style>\n",
       "<table border=\"1\" class=\"dataframe\">\n",
       "  <thead>\n",
       "    <tr style=\"text-align: right;\">\n",
       "      <th></th>\n",
       "      <th>Gender</th>\n",
       "      <th>Age</th>\n",
       "      <th>Height</th>\n",
       "      <th>Weight</th>\n",
       "      <th>family_history_with_overweight</th>\n",
       "      <th>FAVC</th>\n",
       "      <th>FCVC</th>\n",
       "      <th>NCP</th>\n",
       "      <th>CAEC</th>\n",
       "      <th>SMOKE</th>\n",
       "      <th>CH2O</th>\n",
       "      <th>SCC</th>\n",
       "      <th>FAF</th>\n",
       "      <th>TUE</th>\n",
       "      <th>CALC</th>\n",
       "      <th>MTRANS</th>\n",
       "    </tr>\n",
       "  </thead>\n",
       "  <tbody>\n",
       "    <tr>\n",
       "      <th>0</th>\n",
       "      <td>1</td>\n",
       "      <td>0.508163</td>\n",
       "      <td>1.682789</td>\n",
       "      <td>1.273786</td>\n",
       "      <td>1</td>\n",
       "      <td>1</td>\n",
       "      <td>0.932524</td>\n",
       "      <td>0.350808</td>\n",
       "      <td>2</td>\n",
       "      <td>0</td>\n",
       "      <td>1.298389</td>\n",
       "      <td>0</td>\n",
       "      <td>-0.141769</td>\n",
       "      <td>-1.005016</td>\n",
       "      <td>-0.479492</td>\n",
       "      <td>0.437722</td>\n",
       "    </tr>\n",
       "    <tr>\n",
       "      <th>1</th>\n",
       "      <td>0</td>\n",
       "      <td>-0.509128</td>\n",
       "      <td>-1.114658</td>\n",
       "      <td>-0.818988</td>\n",
       "      <td>1</td>\n",
       "      <td>1</td>\n",
       "      <td>-0.833161</td>\n",
       "      <td>-2.462523</td>\n",
       "      <td>2</td>\n",
       "      <td>0</td>\n",
       "      <td>1.583678</td>\n",
       "      <td>0</td>\n",
       "      <td>0.030307</td>\n",
       "      <td>-1.005016</td>\n",
       "      <td>-0.479492</td>\n",
       "      <td>0.437722</td>\n",
       "    </tr>\n",
       "    <tr>\n",
       "      <th>2</th>\n",
       "      <td>0</td>\n",
       "      <td>0.353000</td>\n",
       "      <td>-0.626191</td>\n",
       "      <td>0.927432</td>\n",
       "      <td>1</td>\n",
       "      <td>1</td>\n",
       "      <td>1.047997</td>\n",
       "      <td>0.350808</td>\n",
       "      <td>2</td>\n",
       "      <td>0</td>\n",
       "      <td>0.965029</td>\n",
       "      <td>0</td>\n",
       "      <td>-1.159701</td>\n",
       "      <td>-0.592995</td>\n",
       "      <td>-0.479492</td>\n",
       "      <td>0.437722</td>\n",
       "    </tr>\n",
       "    <tr>\n",
       "      <th>3</th>\n",
       "      <td>1</td>\n",
       "      <td>-0.512705</td>\n",
       "      <td>-1.642760</td>\n",
       "      <td>0.623672</td>\n",
       "      <td>1</td>\n",
       "      <td>1</td>\n",
       "      <td>-0.833161</td>\n",
       "      <td>0.319733</td>\n",
       "      <td>2</td>\n",
       "      <td>0</td>\n",
       "      <td>1.234234</td>\n",
       "      <td>0</td>\n",
       "      <td>-1.046828</td>\n",
       "      <td>-1.005016</td>\n",
       "      <td>-0.479492</td>\n",
       "      <td>0.437722</td>\n",
       "    </tr>\n",
       "    <tr>\n",
       "      <th>4</th>\n",
       "      <td>0</td>\n",
       "      <td>0.353000</td>\n",
       "      <td>-0.805996</td>\n",
       "      <td>0.668336</td>\n",
       "      <td>1</td>\n",
       "      <td>1</td>\n",
       "      <td>1.047997</td>\n",
       "      <td>0.350808</td>\n",
       "      <td>2</td>\n",
       "      <td>0</td>\n",
       "      <td>1.016818</td>\n",
       "      <td>0</td>\n",
       "      <td>-1.159701</td>\n",
       "      <td>0.213881</td>\n",
       "      <td>-0.479492</td>\n",
       "      <td>0.437722</td>\n",
       "    </tr>\n",
       "  </tbody>\n",
       "</table>\n",
       "</div>"
      ],
      "text/plain": [
       "   Gender       Age    Height    Weight  family_history_with_overweight  FAVC  \\\n",
       "0       1  0.508163  1.682789  1.273786                               1     1   \n",
       "1       0 -0.509128 -1.114658 -0.818988                               1     1   \n",
       "2       0  0.353000 -0.626191  0.927432                               1     1   \n",
       "3       1 -0.512705 -1.642760  0.623672                               1     1   \n",
       "4       0  0.353000 -0.805996  0.668336                               1     1   \n",
       "\n",
       "       FCVC       NCP  CAEC  SMOKE      CH2O  SCC       FAF       TUE  \\\n",
       "0  0.932524  0.350808     2      0  1.298389    0 -0.141769 -1.005016   \n",
       "1 -0.833161 -2.462523     2      0  1.583678    0  0.030307 -1.005016   \n",
       "2  1.047997  0.350808     2      0  0.965029    0 -1.159701 -0.592995   \n",
       "3 -0.833161  0.319733     2      0  1.234234    0 -1.046828 -1.005016   \n",
       "4  1.047997  0.350808     2      0  1.016818    0 -1.159701  0.213881   \n",
       "\n",
       "       CALC    MTRANS  \n",
       "0 -0.479492  0.437722  \n",
       "1 -0.479492  0.437722  \n",
       "2 -0.479492  0.437722  \n",
       "3 -0.479492  0.437722  \n",
       "4 -0.479492  0.437722  "
      ]
     },
     "execution_count": 30,
     "metadata": {},
     "output_type": "execute_result"
    }
   ],
   "source": [
    "dfv.head()"
   ]
  },
  {
   "cell_type": "code",
   "execution_count": 31,
   "id": "3fde2f6c",
   "metadata": {
    "execution": {
     "iopub.execute_input": "2024-02-13T12:32:17.209661Z",
     "iopub.status.busy": "2024-02-13T12:32:17.209117Z",
     "iopub.status.idle": "2024-02-13T12:32:17.212944Z",
     "shell.execute_reply": "2024-02-13T12:32:17.212011Z"
    },
    "papermill": {
     "duration": 0.02326,
     "end_time": "2024-02-13T12:32:17.214667",
     "exception": false,
     "start_time": "2024-02-13T12:32:17.191407",
     "status": "completed"
    },
    "tags": []
   },
   "outputs": [],
   "source": [
    "from sklearn.ensemble import RandomForestClassifier\n",
    "from sklearn.tree import DecisionTreeClassifier"
   ]
  },
  {
   "cell_type": "code",
   "execution_count": 32,
   "id": "51d9fbc0",
   "metadata": {
    "execution": {
     "iopub.execute_input": "2024-02-13T12:32:17.250281Z",
     "iopub.status.busy": "2024-02-13T12:32:17.250039Z",
     "iopub.status.idle": "2024-02-13T12:32:17.443240Z",
     "shell.execute_reply": "2024-02-13T12:32:17.442293Z"
    },
    "papermill": {
     "duration": 0.214063,
     "end_time": "2024-02-13T12:32:17.445557",
     "exception": false,
     "start_time": "2024-02-13T12:32:17.231494",
     "status": "completed"
    },
    "tags": []
   },
   "outputs": [
    {
     "name": "stdout",
     "output_type": "stream",
     "text": [
      "Decision Tree Classification Report:\n",
      "              precision    recall  f1-score   support\n",
      "\n",
      "           0       0.90      0.86      0.88       524\n",
      "           1       0.80      0.81      0.80       626\n",
      "           2       0.81      0.78      0.80       543\n",
      "           3       0.96      0.95      0.96       657\n",
      "           4       0.99      1.00      0.99       804\n",
      "           5       0.69      0.68      0.68       484\n",
      "           6       0.69      0.74      0.71       514\n",
      "\n",
      "    accuracy                           0.85      4152\n",
      "   macro avg       0.83      0.83      0.83      4152\n",
      "weighted avg       0.85      0.85      0.85      4152\n",
      "\n",
      "Accuracy: 0.846820809248555\n"
     ]
    }
   ],
   "source": [
    "# Decision Tree with class imbalance handling\n",
    "dt_model = DecisionTreeClassifier(random_state=42, class_weight='balanced')\n",
    "dt_pipeline = Pipeline([\n",
    "    ('over_sampler', over_sampler),\n",
    "    ('under_sampler', under_sampler),\n",
    "    ('dt_model', dt_model)\n",
    "])\n",
    "\n",
    "dt_pipeline.fit(X_train, y_train)\n",
    "dt_predictions = dt_pipeline.predict(X_test)\n",
    "print(\"Decision Tree Classification Report:\")\n",
    "print(classification_report(y_test, dt_predictions))\n",
    "print(\"Accuracy:\", accuracy_score(y_test, dt_predictions))\n",
    "cm_dt=confusion_matrix(y_test, dt_predictions)"
   ]
  },
  {
   "cell_type": "code",
   "execution_count": 33,
   "id": "6243114b",
   "metadata": {
    "execution": {
     "iopub.execute_input": "2024-02-13T12:32:17.483195Z",
     "iopub.status.busy": "2024-02-13T12:32:17.482884Z",
     "iopub.status.idle": "2024-02-13T12:32:20.491726Z",
     "shell.execute_reply": "2024-02-13T12:32:20.490629Z"
    },
    "papermill": {
     "duration": 3.02969,
     "end_time": "2024-02-13T12:32:20.494255",
     "exception": false,
     "start_time": "2024-02-13T12:32:17.464565",
     "status": "completed"
    },
    "tags": []
   },
   "outputs": [
    {
     "name": "stdout",
     "output_type": "stream",
     "text": [
      "\n",
      "Random Forest Classification Report:\n",
      "              precision    recall  f1-score   support\n",
      "\n",
      "           0       0.94      0.93      0.93       524\n",
      "           1       0.86      0.88      0.87       626\n",
      "           2       0.89      0.85      0.87       543\n",
      "           3       0.97      0.98      0.97       657\n",
      "           4       1.00      1.00      1.00       804\n",
      "           5       0.76      0.77      0.77       484\n",
      "           6       0.79      0.80      0.79       514\n",
      "\n",
      "    accuracy                           0.90      4152\n",
      "   macro avg       0.89      0.89      0.89      4152\n",
      "weighted avg       0.90      0.90      0.90      4152\n",
      "\n",
      "Accuracy: 0.8971579961464354\n"
     ]
    }
   ],
   "source": [
    "# Random Forest with class imbalance handling\n",
    "rf_model = RandomForestClassifier(random_state=42, class_weight='balanced')\n",
    "rf_pipeline = Pipeline([\n",
    "    ('over_sampler', over_sampler),\n",
    "    ('under_sampler', under_sampler),\n",
    "    ('rf_model', rf_model)\n",
    "])\n",
    "\n",
    "rf_pipeline.fit(X_train, y_train)\n",
    "rf_predictions = rf_pipeline.predict(X_test)\n",
    "print(\"\\nRandom Forest Classification Report:\")\n",
    "print(classification_report(y_test, rf_predictions))\n",
    "print(\"Accuracy:\", accuracy_score(y_test, rf_predictions))\n",
    "cm_rf=confusion_matrix(y_test, rf_predictions)"
   ]
  },
  {
   "cell_type": "code",
   "execution_count": 34,
   "id": "423942f1",
   "metadata": {
    "execution": {
     "iopub.execute_input": "2024-02-13T12:32:20.534628Z",
     "iopub.status.busy": "2024-02-13T12:32:20.533728Z",
     "iopub.status.idle": "2024-02-13T12:32:33.504257Z",
     "shell.execute_reply": "2024-02-13T12:32:33.502332Z"
    },
    "papermill": {
     "duration": 12.997156,
     "end_time": "2024-02-13T12:32:33.510389",
     "exception": false,
     "start_time": "2024-02-13T12:32:20.513233",
     "status": "completed"
    },
    "tags": []
   },
   "outputs": [
    {
     "name": "stdout",
     "output_type": "stream",
     "text": [
      "\n",
      "Artificial Neural Network Classification Report:\n",
      "              precision    recall  f1-score   support\n",
      "\n",
      "           0       0.91      0.91      0.91       524\n",
      "           1       0.85      0.83      0.84       626\n",
      "           2       0.83      0.87      0.85       543\n",
      "           3       0.97      0.97      0.97       657\n",
      "           4       1.00      1.00      1.00       804\n",
      "           5       0.71      0.76      0.74       484\n",
      "           6       0.75      0.69      0.72       514\n",
      "\n",
      "    accuracy                           0.87      4152\n",
      "   macro avg       0.86      0.86      0.86      4152\n",
      "weighted avg       0.87      0.87      0.87      4152\n",
      "\n",
      "Accuracy: 0.8740366088631984\n"
     ]
    },
    {
     "name": "stderr",
     "output_type": "stream",
     "text": [
      "/opt/conda/lib/python3.10/site-packages/sklearn/neural_network/_multilayer_perceptron.py:686: ConvergenceWarning: Stochastic Optimizer: Maximum iterations (200) reached and the optimization hasn't converged yet.\n",
      "  warnings.warn(\n"
     ]
    }
   ],
   "source": [
    "# Neural Network (Artificial Neural Network - ANN) with class imbalance handling\n",
    "from sklearn.neural_network import MLPClassifier\n",
    "scaler = StandardScaler()\n",
    "X_train_scaled = scaler.fit_transform(X_train)\n",
    "X_test_scaled = scaler.transform(X_test)\n",
    "\n",
    "ann_model = MLPClassifier(random_state=42)\n",
    "ann_model.fit(X_train_scaled, y_train)\n",
    "ann_predictions = ann_model.predict(X_test_scaled)\n",
    "print(\"\\nArtificial Neural Network Classification Report:\")\n",
    "print(classification_report(y_test, ann_predictions))\n",
    "print(\"Accuracy:\", accuracy_score(y_test, ann_predictions))\n",
    "cm_ann=confusion_matrix(y_test, ann_predictions)"
   ]
  },
  {
   "cell_type": "markdown",
   "id": "362e4fd4",
   "metadata": {
    "papermill": {
     "duration": 0.041223,
     "end_time": "2024-02-13T12:32:33.595565",
     "exception": false,
     "start_time": "2024-02-13T12:32:33.554342",
     "status": "completed"
    },
    "tags": []
   },
   "source": [
    "# predictions\n"
   ]
  },
  {
   "cell_type": "code",
   "execution_count": 35,
   "id": "96440e8e",
   "metadata": {
    "execution": {
     "iopub.execute_input": "2024-02-13T12:32:33.638874Z",
     "iopub.status.busy": "2024-02-13T12:32:33.638518Z",
     "iopub.status.idle": "2024-02-13T12:32:33.876249Z",
     "shell.execute_reply": "2024-02-13T12:32:33.875495Z"
    },
    "papermill": {
     "duration": 0.257872,
     "end_time": "2024-02-13T12:32:33.878411",
     "exception": false,
     "start_time": "2024-02-13T12:32:33.620539",
     "status": "completed"
    },
    "tags": []
   },
   "outputs": [],
   "source": [
    "y_pred = rf_model.predict(dfv)\n",
    "\n",
    "# Create a DataFrame with the test predictions\n",
    "test_results1 = pd.DataFrame({'NObeyesdad': y_pred})\n",
    "\n",
    "# Concatenate the predictions with the test data\n",
    "test_results = pd.concat([ids, test_results1], axis=1)"
   ]
  },
  {
   "cell_type": "code",
   "execution_count": 36,
   "id": "0e3e6b40",
   "metadata": {
    "execution": {
     "iopub.execute_input": "2024-02-13T12:32:33.915691Z",
     "iopub.status.busy": "2024-02-13T12:32:33.915426Z",
     "iopub.status.idle": "2024-02-13T12:32:33.923586Z",
     "shell.execute_reply": "2024-02-13T12:32:33.922840Z"
    },
    "papermill": {
     "duration": 0.028085,
     "end_time": "2024-02-13T12:32:33.925462",
     "exception": false,
     "start_time": "2024-02-13T12:32:33.897377",
     "status": "completed"
    },
    "tags": []
   },
   "outputs": [
    {
     "data": {
      "text/html": [
       "<div>\n",
       "<style scoped>\n",
       "    .dataframe tbody tr th:only-of-type {\n",
       "        vertical-align: middle;\n",
       "    }\n",
       "\n",
       "    .dataframe tbody tr th {\n",
       "        vertical-align: top;\n",
       "    }\n",
       "\n",
       "    .dataframe thead th {\n",
       "        text-align: right;\n",
       "    }\n",
       "</style>\n",
       "<table border=\"1\" class=\"dataframe\">\n",
       "  <thead>\n",
       "    <tr style=\"text-align: right;\">\n",
       "      <th></th>\n",
       "      <th>id</th>\n",
       "      <th>NObeyesdad</th>\n",
       "    </tr>\n",
       "  </thead>\n",
       "  <tbody>\n",
       "    <tr>\n",
       "      <th>0</th>\n",
       "      <td>20758</td>\n",
       "      <td>3</td>\n",
       "    </tr>\n",
       "    <tr>\n",
       "      <th>1</th>\n",
       "      <td>20759</td>\n",
       "      <td>5</td>\n",
       "    </tr>\n",
       "    <tr>\n",
       "      <th>2</th>\n",
       "      <td>20760</td>\n",
       "      <td>4</td>\n",
       "    </tr>\n",
       "    <tr>\n",
       "      <th>3</th>\n",
       "      <td>20761</td>\n",
       "      <td>2</td>\n",
       "    </tr>\n",
       "    <tr>\n",
       "      <th>4</th>\n",
       "      <td>20762</td>\n",
       "      <td>4</td>\n",
       "    </tr>\n",
       "  </tbody>\n",
       "</table>\n",
       "</div>"
      ],
      "text/plain": [
       "      id  NObeyesdad\n",
       "0  20758           3\n",
       "1  20759           5\n",
       "2  20760           4\n",
       "3  20761           2\n",
       "4  20762           4"
      ]
     },
     "execution_count": 36,
     "metadata": {},
     "output_type": "execute_result"
    }
   ],
   "source": [
    "test_results.head()"
   ]
  },
  {
   "cell_type": "code",
   "execution_count": 37,
   "id": "1e714909",
   "metadata": {
    "execution": {
     "iopub.execute_input": "2024-02-13T12:32:33.961492Z",
     "iopub.status.busy": "2024-02-13T12:32:33.960992Z",
     "iopub.status.idle": "2024-02-13T12:32:33.982491Z",
     "shell.execute_reply": "2024-02-13T12:32:33.981835Z"
    },
    "papermill": {
     "duration": 0.041466,
     "end_time": "2024-02-13T12:32:33.984337",
     "exception": false,
     "start_time": "2024-02-13T12:32:33.942871",
     "status": "completed"
    },
    "tags": []
   },
   "outputs": [],
   "source": [
    "# Save the results to a CSV file\n",
    "test_results.to_csv('submission.csv', index=False)"
   ]
  },
  {
   "cell_type": "code",
   "execution_count": null,
   "id": "87e918fb",
   "metadata": {
    "papermill": {
     "duration": 0.017049,
     "end_time": "2024-02-13T12:32:34.018633",
     "exception": false,
     "start_time": "2024-02-13T12:32:34.001584",
     "status": "completed"
    },
    "tags": []
   },
   "outputs": [],
   "source": []
  }
 ],
 "metadata": {
  "kaggle": {
   "accelerator": "nvidiaTeslaT4",
   "dataSources": [
    {
     "databundleVersionId": 7609535,
     "sourceId": 68479,
     "sourceType": "competition"
    }
   ],
   "dockerImageVersionId": 30648,
   "isGpuEnabled": true,
   "isInternetEnabled": true,
   "language": "python",
   "sourceType": "notebook"
  },
  "kernelspec": {
   "display_name": "Python 3",
   "language": "python",
   "name": "python3"
  },
  "language_info": {
   "codemirror_mode": {
    "name": "ipython",
    "version": 3
   },
   "file_extension": ".py",
   "mimetype": "text/x-python",
   "name": "python",
   "nbconvert_exporter": "python",
   "pygments_lexer": "ipython3",
   "version": "3.10.13"
  },
  "papermill": {
   "default_parameters": {},
   "duration": 29.697732,
   "end_time": "2024-02-13T12:32:34.554156",
   "environment_variables": {},
   "exception": null,
   "input_path": "__notebook__.ipynb",
   "output_path": "__notebook__.ipynb",
   "parameters": {},
   "start_time": "2024-02-13T12:32:04.856424",
   "version": "2.5.0"
  }
 },
 "nbformat": 4,
 "nbformat_minor": 5
}
